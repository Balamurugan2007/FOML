{
  "nbformat": 4,
  "nbformat_minor": 0,
  "metadata": {
    "colab": {
      "provenance": []
    },
    "kernelspec": {
      "name": "python3",
      "display_name": "Python 3"
    },
    "language_info": {
      "name": "python"
    }
  },
  "cells": [
    {
      "cell_type": "code",
      "execution_count": 1,
      "metadata": {
        "id": "W6PQ2_ln9LFY"
      },
      "outputs": [],
      "source": [
        "import numpy as np"
      ]
    },
    {
      "cell_type": "code",
      "source": [
        "X = np.array([[0,0], [0,1], [1,0], [1,1]])\n",
        "Y = np.array([0, 0, 0, 1])\n",
        "w = np.array([0.3, -0.2])\n",
        "b = -0.4\n",
        "eta = 0.2\n"
      ],
      "metadata": {
        "id": "V7-KDkHJ9RMq"
      },
      "execution_count": 2,
      "outputs": []
    },
    {
      "cell_type": "code",
      "source": [
        "def activation(net):\n",
        "    return 1 if net >= 0 else 0"
      ],
      "metadata": {
        "id": "4SoVguih-kzr"
      },
      "execution_count": 3,
      "outputs": []
    },
    {
      "cell_type": "code",
      "source": [
        "epochs = 10\n",
        "for epoch in range(epochs):\n",
        "    print(f\"\\nEpoch {epoch+1}\")\n",
        "    error_count = 0\n",
        "    for i in range(len(X)):\n",
        "        x = X[i]\n",
        "        d = Y[i]\n",
        "        net = np.dot(w, x) + b\n",
        "        y = activation(net)\n",
        "        error = d - y\n",
        "\n",
        "        if error != 0:\n",
        "            w = w + eta * error * x\n",
        "            b = b + eta * error\n",
        "            print(f\"Updated weights: {w}, Bias: {b}\")\n",
        "            error_count += 1\n",
        "        else:\n",
        "            print(f\"Input {x}, No change\")\n",
        "\n",
        "    if error_count == 0:\n",
        "        print(\"\\nTraining complete.\")\n",
        "        break"
      ],
      "metadata": {
        "colab": {
          "base_uri": "https://localhost:8080/"
        },
        "id": "OgVBY1j_-xyS",
        "outputId": "563016b5-2f0d-4b17-f143-ff037c2e36a7"
      },
      "execution_count": 4,
      "outputs": [
        {
          "output_type": "stream",
          "name": "stdout",
          "text": [
            "\n",
            "Epoch 1\n",
            "\n",
            "Epoch 2\n",
            "\n",
            "Epoch 3\n",
            "\n",
            "Epoch 4\n",
            "\n",
            "Epoch 5\n",
            "\n",
            "Epoch 6\n",
            "\n",
            "Epoch 7\n",
            "\n",
            "Epoch 8\n",
            "\n",
            "Epoch 9\n",
            "\n",
            "Epoch 10\n"
          ]
        }
      ]
    },
    {
      "cell_type": "code",
      "source": [
        "    for i in range(len(X)):\n",
        "        x = X[i]\n",
        "        d = Y[i]\n",
        "        net = np.dot(w, x) + b"
      ],
      "metadata": {
        "id": "wf5Ff63h-8up"
      },
      "execution_count": 5,
      "outputs": []
    },
    {
      "cell_type": "code",
      "source": [
        "      y = activation(net)\n",
        "      error = d - y"
      ],
      "metadata": {
        "id": "12cZlZAL_Fii"
      },
      "execution_count": 6,
      "outputs": []
    },
    {
      "cell_type": "code",
      "source": [
        "  if error != 0:\n",
        "            w = w + eta * error * x\n",
        "            b = b + eta * error\n",
        "            print(f\"Updated weights: {w}, Bias: {b}\")\n",
        "            error_count += 1\n",
        "  else:\n",
        "            print(f\"Input {x}, No change\")"
      ],
      "metadata": {
        "colab": {
          "base_uri": "https://localhost:8080/"
        },
        "id": "BZeS7Yed_QJ5",
        "outputId": "ec2a166e-ad05-44e5-b7b8-626772a09d09"
      },
      "execution_count": 9,
      "outputs": [
        {
          "output_type": "stream",
          "name": "stdout",
          "text": [
            "Updated weights: [0.5 0. ], Bias: -0.2\n"
          ]
        }
      ]
    },
    {
      "cell_type": "code",
      "source": [
        "   if error_count == 0:\n",
        "        print(\"\\nTraining complete.\")\n"
      ],
      "metadata": {
        "id": "e3YuuRvc_aax"
      },
      "execution_count": 12,
      "outputs": []
    },
    {
      "cell_type": "code",
      "source": [
        "print(\"\\nFinal Weights:\", w)\n",
        "print(\"Final Bias:\", b)"
      ],
      "metadata": {
        "colab": {
          "base_uri": "https://localhost:8080/"
        },
        "id": "mYPF5mug_3jC",
        "outputId": "f0514687-8708-4162-c364-a3c9223b7e6e"
      },
      "execution_count": 13,
      "outputs": [
        {
          "output_type": "stream",
          "name": "stdout",
          "text": [
            "\n",
            "Final Weights: [0.5 0. ]\n",
            "Final Bias: -0.2\n"
          ]
        }
      ]
    },
    {
      "cell_type": "code",
      "source": [
        "print(\"\\nTesting AND function:\")\n",
        "for i in range(len(X)):\n",
        "    net = np.dot(w, X[i]) + b\n",
        "    print(f\"Input: {X[i]}, Output: {activation(net)}\")"
      ],
      "metadata": {
        "colab": {
          "base_uri": "https://localhost:8080/"
        },
        "id": "Oaw5Qvr7_74C",
        "outputId": "7a1b8c87-0b6e-4993-d306-e3eb0bbb67a9"
      },
      "execution_count": 14,
      "outputs": [
        {
          "output_type": "stream",
          "name": "stdout",
          "text": [
            "\n",
            "Testing AND function:\n",
            "Input: [0 0], Output: 0\n",
            "Input: [0 1], Output: 0\n",
            "Input: [1 0], Output: 1\n",
            "Input: [1 1], Output: 1\n"
          ]
        }
      ]
    }
  ]
}